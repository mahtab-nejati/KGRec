{
 "cells": [
  {
   "cell_type": "code",
   "execution_count": 1,
   "metadata": {},
   "outputs": [],
   "source": [
    "import os\n",
    "import pickle\n",
    "import pandas as pd\n",
    "import numpy as np\n",
    "from sklearn.metrics.pairwise import cosine_similarity\n",
    "\n",
    "\n",
    "ml_path = './learning_data/'"
   ]
  },
  {
   "cell_type": "markdown",
   "metadata": {},
   "source": [
    "# Load Data"
   ]
  },
  {
   "cell_type": "code",
   "execution_count": 2,
   "metadata": {},
   "outputs": [],
   "source": [
    "with open(ml_path+'y_test.pkl','rb') as f:\n",
    "    y_test = pickle.load(f)\n",
    "with open(ml_path+'y_train.pkl','rb') as f:\n",
    "    y_train = pickle.load(f)\n",
    "with open(ml_path+'topics.pkl','rb') as f:\n",
    "    topics = pickle.load(f)\n",
    "\n",
    "test_samples_count = y_test.shape[0]"
   ]
  },
  {
   "cell_type": "markdown",
   "metadata": {},
   "source": [
    "# Helper function to get the top-k results for n samples in an n*m matrix"
   ]
  },
  {
   "cell_type": "code",
   "execution_count": 3,
   "metadata": {},
   "outputs": [],
   "source": [
    "def get_top_k(values, k):\n",
    "    results = np.zeros_like(values)\n",
    "    for i in range(values.shape[0]):\n",
    "        indexes = values[i,:].argsort()[-k:][::-1]\n",
    "        results[i,indexes] = 1.0\n",
    "    return results"
   ]
  },
  {
   "cell_type": "markdown",
   "metadata": {},
   "source": [
    "# Helper function to get the recommendations and their scores in a dict format"
   ]
  },
  {
   "cell_type": "code",
   "execution_count": 4,
   "metadata": {},
   "outputs": [],
   "source": [
    "def get_topic_names(recoms, k, topics=topics):\n",
    "    indices = list(np.where(recoms > 0)[0])\n",
    "    result = sorted([(topics[x],recoms[x]) for x in indices], key=lambda e: e[1], reverse=True)\n",
    "    if len(result)<k:\n",
    "        result = result + [('no-more-recoms',0)]*(k-len(result))\n",
    "    return result\n",
    "\n",
    "def vectorized_get_topic_names(recoms_array, k, topics=topics):\n",
    "    results = np.apply_along_axis(get_topic_names, 1, recoms_array, k)\n",
    "    return results"
   ]
  },
  {
   "cell_type": "markdown",
   "metadata": {},
   "source": [
    "# Set K"
   ]
  },
  {
   "cell_type": "code",
   "execution_count": 5,
   "metadata": {},
   "outputs": [],
   "source": [
    "k_topfilter = 5\n",
    "k_similarity = 25\n",
    "k_saved_files = 5"
   ]
  },
  {
   "cell_type": "markdown",
   "metadata": {},
   "source": [
    "# Similarity (Top-25)"
   ]
  },
  {
   "cell_type": "code",
   "execution_count": 6,
   "metadata": {},
   "outputs": [],
   "source": [
    "sims_values = cosine_similarity(y_test, y_train)\n",
    "sims_top_k = get_top_k(sims_values, k_similarity)\n",
    "sims_filtered = sims_top_k * sims_values"
   ]
  },
  {
   "cell_type": "markdown",
   "metadata": {},
   "source": [
    "# Make Recommendations (Top-k)"
   ]
  },
  {
   "cell_type": "code",
   "execution_count": 7,
   "metadata": {},
   "outputs": [],
   "source": [
    "topfilter_ratings = np.matmul(sims_filtered, y_train)/sims_filtered.sum(axis=1)[:,None]\n",
    "topfilter_ratings[np.where(y_test>0)] = 0\n",
    "topfilter_top_k = get_top_k(topfilter_ratings, k_topfilter)\n",
    "\n",
    "topfilter_results = topfilter_ratings * topfilter_top_k\n",
    "topfilter_recoms = vectorized_get_topic_names(topfilter_results, k_topfilter)"
   ]
  },
  {
   "cell_type": "markdown",
   "metadata": {},
   "source": [
    "# Report on Failures"
   ]
  },
  {
   "cell_type": "code",
   "execution_count": 8,
   "metadata": {},
   "outputs": [
    {
     "name": "stdout",
     "output_type": "stream",
     "text": [
      "\n",
      "Topfilter failed to make 5 recommendations for 73.14% of the 29050 test repositoried.\n",
      "\n",
      "Topfilter made NO recommendations for 50.15% of the 29050 test repositoried.\n"
     ]
    }
   ],
   "source": [
    "failed_k = []\n",
    "failed_0 = []\n",
    "\n",
    "for i in range(topfilter_ratings.shape[0]):\n",
    "    if len(np.where(topfilter_ratings[i,:]>0)[0])<k_topfilter:\n",
    "        failed_k.append(i)\n",
    "    if len(np.where(topfilter_ratings[i,:]>0)[0])==0:\n",
    "        failed_0.append(i)\n",
    "\n",
    "print(f'\\nTopfilter failed to make {k_topfilter} recommendations for {np.round(len(failed_k)*100/test_samples_count, 2)}% of the {test_samples_count} test repositoried.')\n",
    "print(f'\\nTopfilter made NO recommendations for {np.round(len(failed_0)*100/test_samples_count, 2)}% of the {test_samples_count} test repositoried.')"
   ]
  },
  {
   "cell_type": "markdown",
   "metadata": {},
   "source": [
    "# Save Results"
   ]
  },
  {
   "cell_type": "code",
   "execution_count": 9,
   "metadata": {},
   "outputs": [],
   "source": [
    "try:\n",
    "    os.makedirs('./results/')\n",
    "except:\n",
    "    pass\n",
    "\n",
    "with open(f'./results/pure_topfilter_top{k_saved_files}_test_results.pkl','wb') as f:\n",
    "    pickle.dump(topfilter_recoms, f)"
   ]
  }
 ],
 "metadata": {
  "kernelspec": {
   "display_name": "Python 3",
   "language": "python",
   "name": "python3"
  },
  "language_info": {
   "codemirror_mode": {
    "name": "ipython",
    "version": 3
   },
   "file_extension": ".py",
   "mimetype": "text/x-python",
   "name": "python",
   "nbconvert_exporter": "python",
   "pygments_lexer": "ipython3",
   "version": "3.8.5"
  }
 },
 "nbformat": 4,
 "nbformat_minor": 4
}
