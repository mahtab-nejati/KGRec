{
 "cells": [
  {
   "cell_type": "markdown",
   "metadata": {},
   "source": [
    "# Load Data"
   ]
  },
  {
   "cell_type": "code",
   "execution_count": 1,
   "metadata": {},
   "outputs": [],
   "source": [
    "import pickle\n",
    "import pandas as pd\n",
    "import numpy as np\n",
    "\n",
    "with open('./learning_data/X_train_raw.pkl','rb') as f:\n",
    "    X_train_raw = pickle.load(f).readme_processed.values\n",
    "with open('./learning_data/y_train.pkl','rb') as f:\n",
    "    y_train = pickle.load(f)\n",
    "with open('./learning_data/X_test_raw.pkl','rb') as f:\n",
    "    X_test_raw = pickle.load(f).readme_processed.values\n",
    "with open('./learning_data/y_test.pkl','rb') as f:\n",
    "    y_test = pickle.load(f)\n",
    "with open('./learning_data/topics.pkl','rb') as f:\n",
    "    topics = pickle.load(f)"
   ]
  },
  {
   "cell_type": "markdown",
   "metadata": {},
   "source": [
    "# Prep Training Data (according to approach, 100 repositories per topic)"
   ]
  },
  {
   "cell_type": "code",
   "execution_count": 2,
   "metadata": {},
   "outputs": [],
   "source": [
    "from random import sample\n",
    "\n",
    "X_train = []\n",
    "y_train_label = []\n",
    "\n",
    "X_test = list(X_test_raw)\n",
    "\n",
    "for i in range(len(topics)):\n",
    "    topic = topics[i]\n",
    "    try:\n",
    "        X_topic = sample(list(X_train_raw[y_train[:,i]==1]), 100)\n",
    "    except:\n",
    "        X_topic = list(X_train_raw[y_train[:,i]==1])\n",
    "    \n",
    "    X_train = X_train+X_topic\n",
    "    y_train_label = y_train_label+[topic]*len(X_topic)"
   ]
  },
  {
   "cell_type": "markdown",
   "metadata": {},
   "source": [
    "# Vectors"
   ]
  },
  {
   "cell_type": "code",
   "execution_count": 3,
   "metadata": {},
   "outputs": [],
   "source": [
    "from sklearn.feature_extraction.text import TfidfTransformer, TfidfVectorizer\n",
    "\n",
    "tfidf_vectorizer = TfidfVectorizer(input='train', stop_words={'english'}, lowercase=True, analyzer='word')\n",
    "tfidf_transformer = TfidfTransformer()\n",
    "\n",
    "X_train_vectors = tfidf_vectorizer.fit_transform(X_train)\n",
    "X_train_tfidf = tfidf_transformer.fit_transform(X_train_vectors)\n",
    "\n",
    "X_test_vectors = tfidf_vectorizer.transform(X_test)\n",
    "X_test_tfidf = tfidf_transformer.transform(X_test_vectors)\n",
    "\n",
    "# Saving results\n",
    "\n",
    "\n",
    "import os\n",
    "import pickle\n",
    "\n",
    "try:\n",
    "    os.makedirs('./learning_data/')\n",
    "except:\n",
    "    pass\n",
    "\n",
    "with open('./learning_data/tfidf_vectorizer_mnb.pkl','wb') as f:\n",
    "    pickle.dump(tfidf_vectorizer,f)\n",
    "with open('./learning_data/tfidf_transformer_mnb.pkl','wb') as f:\n",
    "    pickle.dump(tfidf_transformer,f)"
   ]
  },
  {
   "cell_type": "markdown",
   "metadata": {},
   "source": [
    "# MNB Model"
   ]
  },
  {
   "cell_type": "code",
   "execution_count": 4,
   "metadata": {},
   "outputs": [],
   "source": [
    "from sklearn.naive_bayes import MultinomialNB\n",
    "\n",
    "mnb_clf = MultinomialNB().fit(X_train_tfidf,y_train_label)\n",
    "\n",
    "# Saving Results\n",
    "\n",
    "import os\n",
    "import pickle\n",
    "\n",
    "try:\n",
    "    os.makedirs('./learning_data/')\n",
    "except:\n",
    "    pass\n",
    "\n",
    "with open('./learning_data/mnb_clf.pkl','wb') as f:\n",
    "    pickle.dump(mnb_clf,f)\n",
    "\n",
    "\n",
    "train_predictions = mnb_clf.predict_proba(X_train_tfidf)\n",
    "\n",
    "test_predictions = mnb_clf.predict_proba(X_test_tfidf)"
   ]
  }
 ],
 "metadata": {
  "kernelspec": {
   "display_name": "Python 3",
   "language": "python",
   "name": "python3"
  },
  "language_info": {
   "codemirror_mode": {
    "name": "ipython",
    "version": 3
   },
   "file_extension": ".py",
   "mimetype": "text/x-python",
   "name": "python",
   "nbconvert_exporter": "python",
   "pygments_lexer": "ipython3",
   "version": "3.8.5"
  }
 },
 "nbformat": 4,
 "nbformat_minor": 4
}
